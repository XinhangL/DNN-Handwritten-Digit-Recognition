{
 "cells": [
  {
   "cell_type": "markdown",
   "metadata": {},
   "source": [
    "### EAI 6000 Assignment\n",
    "Script: Train a DNN on the MNIST dataset \\\n",
    "Xinhang Li \\"
   ]
  },
  {
   "cell_type": "code",
   "execution_count": 1,
   "metadata": {},
   "outputs": [],
   "source": [
    "import numpy as np\n",
    "import matplotlib.pyplot as plt\n",
    "import tensorflow as tf\n",
    "from tensorflow import keras\n",
    "from tensorflow.keras import layers"
   ]
  },
  {
   "cell_type": "code",
   "execution_count": 2,
   "metadata": {},
   "outputs": [],
   "source": [
    "# Read mnist data\n",
    "file = 'mnist.npz'\n",
    "data = np.load(file)\n",
    "X_train, y_train = data['x_train'], data['y_train']\n",
    "X_test, y_test = data['x_test'], data['y_test']\n",
    "data.close()"
   ]
  },
  {
   "cell_type": "code",
   "execution_count": 3,
   "metadata": {
    "scrolled": false
   },
   "outputs": [
    {
     "name": "stdout",
     "output_type": "stream",
     "text": [
      "(60000, 28, 28)\n",
      "(60000,)\n",
      "(10000, 28, 28)\n",
      "(10000,)\n"
     ]
    }
   ],
   "source": [
    "# View data format\n",
    "print(X_train.shape)\n",
    "print(y_train.shape)\n",
    "print(X_test.shape)\n",
    "print(y_test.shape)"
   ]
  },
  {
   "cell_type": "code",
   "execution_count": 4,
   "metadata": {
    "scrolled": true
   },
   "outputs": [
    {
     "data": {
      "text/plain": [
       "<matplotlib.image.AxesImage at 0x20f5e2ce5e0>"
      ]
     },
     "execution_count": 4,
     "metadata": {},
     "output_type": "execute_result"
    },
    {
     "data": {
      "image/png": "[encoded data removed]",
      "text/plain": [
       "<Figure size 432x288 with 1 Axes>"
      ]
     },
     "metadata": {
      "needs_background": "light"
     },
     "output_type": "display_data"
    }
   ],
   "source": [
    "# Output the data as pictures\n",
    "plt.imshow(X_train[10000])"
   ]
  },
  {
   "cell_type": "code",
   "execution_count": 5,
   "metadata": {},
   "outputs": [],
   "source": [
    "# Change the data format to a one-dimensional format that DNN can receive\n",
    "X_train = X_train.reshape((60000, 28*28), order = 'C') # Expand the two-dimensional picture into one-dimensional data\n",
    "X_test = X_test.reshape((10000, 28*28), order = 'C')"
   ]
  },
  {
   "cell_type": "code",
   "execution_count": 6,
   "metadata": {},
   "outputs": [
    {
     "name": "stdout",
     "output_type": "stream",
     "text": [
      "Epoch 1/50\n",
      "118/118 [==============================] - 1s 3ms/step - loss: 58.6325 - accuracy: 0.4308\n",
      "Epoch 2/50\n",
      "118/118 [==============================] - 0s 3ms/step - loss: 1.1271 - accuracy: 0.6402\n",
      "Epoch 3/50\n",
      "118/118 [==============================] - 0s 3ms/step - loss: 0.8600 - accuracy: 0.7171\n",
      "Epoch 4/50\n",
      "118/118 [==============================] - 0s 3ms/step - loss: 0.7184 - accuracy: 0.7642\n",
      "Epoch 5/50\n",
      "118/118 [==============================] - 0s 3ms/step - loss: 0.6172 - accuracy: 0.7902\n",
      "Epoch 6/50\n",
      "118/118 [==============================] - 0s 3ms/step - loss: 0.5705 - accuracy: 0.8069\n",
      "Epoch 7/50\n",
      "118/118 [==============================] - 0s 3ms/step - loss: 0.5216 - accuracy: 0.8355\n",
      "Epoch 8/50\n",
      "118/118 [==============================] - 0s 3ms/step - loss: 0.4392 - accuracy: 0.8758\n",
      "Epoch 9/50\n",
      "118/118 [==============================] - 0s 3ms/step - loss: 0.3583 - accuracy: 0.9077\n",
      "Epoch 10/50\n",
      "118/118 [==============================] - 0s 3ms/step - loss: 0.3382 - accuracy: 0.9121\n",
      "Epoch 11/50\n",
      "118/118 [==============================] - 0s 3ms/step - loss: 0.3052 - accuracy: 0.9181\n",
      "Epoch 12/50\n",
      "118/118 [==============================] - 0s 3ms/step - loss: 0.2920 - accuracy: 0.9236\n",
      "Epoch 13/50\n",
      "118/118 [==============================] - 0s 3ms/step - loss: 0.2571 - accuracy: 0.9319\n",
      "Epoch 14/50\n",
      "118/118 [==============================] - 0s 2ms/step - loss: 0.2579 - accuracy: 0.9311\n",
      "Epoch 15/50\n",
      "118/118 [==============================] - 0s 2ms/step - loss: 0.2549 - accuracy: 0.9324\n",
      "Epoch 16/50\n",
      "118/118 [==============================] - 0s 2ms/step - loss: 0.2525 - accuracy: 0.9317\n",
      "Epoch 17/50\n",
      "118/118 [==============================] - 0s 3ms/step - loss: 0.2483 - accuracy: 0.9330\n",
      "Epoch 18/50\n",
      "118/118 [==============================] - 0s 3ms/step - loss: 0.2496 - accuracy: 0.9339\n",
      "Epoch 19/50\n",
      "118/118 [==============================] - 0s 2ms/step - loss: 0.2426 - accuracy: 0.9354\n",
      "Epoch 20/50\n",
      "118/118 [==============================] - 0s 3ms/step - loss: 0.2430 - accuracy: 0.9337\n",
      "Epoch 21/50\n",
      "118/118 [==============================] - 0s 2ms/step - loss: 0.2460 - accuracy: 0.9354\n",
      "Epoch 22/50\n",
      "118/118 [==============================] - 0s 2ms/step - loss: 0.2258 - accuracy: 0.9398\n",
      "Epoch 23/50\n",
      "118/118 [==============================] - 0s 2ms/step - loss: 0.2403 - accuracy: 0.9360\n",
      "Epoch 24/50\n",
      "118/118 [==============================] - 0s 3ms/step - loss: 0.2742 - accuracy: 0.9287\n",
      "Epoch 25/50\n",
      "118/118 [==============================] - 0s 2ms/step - loss: 0.2624 - accuracy: 0.9336\n",
      "Epoch 26/50\n",
      "118/118 [==============================] - 0s 3ms/step - loss: 0.2520 - accuracy: 0.9356\n",
      "Epoch 27/50\n",
      "118/118 [==============================] - 0s 3ms/step - loss: 0.2729 - accuracy: 0.9330\n",
      "Epoch 28/50\n",
      "118/118 [==============================] - 0s 3ms/step - loss: 0.2778 - accuracy: 0.9348\n",
      "Epoch 29/50\n",
      "118/118 [==============================] - 0s 2ms/step - loss: 0.3008 - accuracy: 0.9292\n",
      "Epoch 30/50\n",
      "118/118 [==============================] - 0s 3ms/step - loss: 0.2740 - accuracy: 0.9331\n",
      "Epoch 31/50\n",
      "118/118 [==============================] - 0s 3ms/step - loss: 0.2696 - accuracy: 0.9358\n",
      "Epoch 32/50\n",
      "118/118 [==============================] - 0s 3ms/step - loss: 0.2627 - accuracy: 0.9397\n",
      "Epoch 33/50\n",
      "118/118 [==============================] - 0s 3ms/step - loss: 0.2549 - accuracy: 0.9408\n",
      "Epoch 34/50\n",
      "118/118 [==============================] - 0s 3ms/step - loss: 0.2743 - accuracy: 0.9363\n",
      "Epoch 35/50\n",
      "118/118 [==============================] - 0s 2ms/step - loss: 0.2937 - accuracy: 0.9357\n",
      "Epoch 36/50\n",
      "118/118 [==============================] - 0s 3ms/step - loss: 0.3043 - accuracy: 0.9300\n",
      "Epoch 37/50\n",
      "118/118 [==============================] - 0s 3ms/step - loss: 0.2862 - accuracy: 0.9353\n",
      "Epoch 38/50\n",
      "118/118 [==============================] - 0s 3ms/step - loss: 0.3156 - accuracy: 0.9307\n",
      "Epoch 39/50\n",
      "118/118 [==============================] - 0s 3ms/step - loss: 0.3027 - accuracy: 0.9322\n",
      "Epoch 40/50\n",
      "118/118 [==============================] - 0s 3ms/step - loss: 0.2955 - accuracy: 0.9325\n",
      "Epoch 41/50\n",
      "118/118 [==============================] - 0s 3ms/step - loss: 0.3117 - accuracy: 0.9303\n",
      "Epoch 42/50\n",
      "118/118 [==============================] - 0s 3ms/step - loss: 0.3302 - accuracy: 0.9280\n",
      "Epoch 43/50\n",
      "118/118 [==============================] - 0s 3ms/step - loss: 0.2868 - accuracy: 0.9338\n",
      "Epoch 44/50\n",
      "118/118 [==============================] - 0s 3ms/step - loss: 0.3181 - accuracy: 0.9297\n",
      "Epoch 45/50\n",
      "118/118 [==============================] - 0s 3ms/step - loss: 0.3505 - accuracy: 0.9278\n",
      "Epoch 46/50\n",
      "118/118 [==============================] - 0s 3ms/step - loss: 0.3219 - accuracy: 0.9312\n",
      "Epoch 47/50\n",
      "118/118 [==============================] - 0s 3ms/step - loss: 0.3667 - accuracy: 0.9195\n",
      "Epoch 48/50\n",
      "118/118 [==============================] - 0s 3ms/step - loss: 0.5310 - accuracy: 0.8811\n",
      "Epoch 49/50\n",
      "118/118 [==============================] - 0s 3ms/step - loss: 0.4467 - accuracy: 0.8950\n",
      "Epoch 50/50\n",
      "118/118 [==============================] - 0s 3ms/step - loss: 0.4030 - accuracy: 0.8999\n"
     ]
    },
    {
     "data": {
      "text/plain": [
       "<tensorflow.python.keras.callbacks.History at 0x20f6482d700>"
      ]
     },
     "execution_count": 6,
     "metadata": {},
     "output_type": "execute_result"
    }
   ],
   "source": [
    "# Build DNN and train\n",
    "model = keras.Sequential()\n",
    "model.add(layers.Dense(100, activation = 'relu', input_dim = 28*28))\n",
    "model.add(layers.Dense(10, activation = 'softmax'))\n",
    "\n",
    "adam = keras.optimizers.Adam(lr = 0.01)\n",
    "model.compile(optimizer = adam, loss = 'sparse_categorical_crossentropy', metrics = ['accuracy'])\n",
    "model.fit(X_train, y_train, epochs = 50, batch_size = 512)"
   ]
  },
  {
   "cell_type": "code",
   "execution_count": 7,
   "metadata": {},
   "outputs": [
    {
     "name": "stdout",
     "output_type": "stream",
     "text": [
      "313/313 [==============================] - 0s 466us/step - loss: 0.5201 - accuracy: 0.8970\n"
     ]
    },
    {
     "data": {
      "text/plain": [
       "[0.5201032161712646, 0.8970000147819519]"
      ]
     },
     "execution_count": 7,
     "metadata": {},
     "output_type": "execute_result"
    }
   ],
   "source": [
    "# DNN loss and accuracy on the test set\n",
    "model.evaluate(X_test, y_test)"
   ]
  },
  {
   "cell_type": "code",
   "execution_count": null,
   "metadata": {},
   "outputs": [],
   "source": []
  }
 ],
 "metadata": {
  "kernelspec": {
   "display_name": "Python 3",
   "language": "python",
   "name": "python3"
  },
  "language_info": {
   "codemirror_mode": {
    "name": "ipython",
    "version": 3
   },
   "file_extension": ".py",
   "mimetype": "text/x-python",
   "name": "python",
   "nbconvert_exporter": "python",
   "pygments_lexer": "ipython3",
   "version": "3.8.8"
  },
  "toc": {
   "base_numbering": 1,
   "nav_menu": {},
   "number_sections": true,
   "sideBar": true,
   "skip_h1_title": false,
   "title_cell": "Table of Contents",
   "title_sidebar": "Contents",
   "toc_cell": false,
   "toc_position": {},
   "toc_section_display": true,
   "toc_window_display": false
  },
  "varInspector": {
   "cols": {
    "lenName": 16,
    "lenType": 16,
    "lenVar": 40
   },
   "kernels_config": {
    "python": {
     "delete_cmd_postfix": "",
     "delete_cmd_prefix": "del ",
     "library": "var_list.py",
     "varRefreshCmd": "print(var_dic_list())"
    },
    "r": {
     "delete_cmd_postfix": ") ",
     "delete_cmd_prefix": "rm(",
     "library": "var_list.r",
     "varRefreshCmd": "cat(var_dic_list()) "
    }
   },
   "types_to_exclude": [
    "module",
    "function",
    "builtin_function_or_method",
    "instance",
    "_Feature"
   ],
   "window_display": false
  }
 },
 "nbformat": 4,
 "nbformat_minor": 4
}
